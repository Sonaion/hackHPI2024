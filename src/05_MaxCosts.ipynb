{
 "cells": [
  {
   "cell_type": "code",
   "execution_count": 21,
   "metadata": {},
   "outputs": [],
   "source": [
    "import pandas as pd\n",
    "import numpy as np\n",
    "import json"
   ]
  },
  {
   "cell_type": "code",
   "execution_count": 22,
   "metadata": {},
   "outputs": [],
   "source": [
    "# Read JSON string from file\n",
    "with open('./data/total_Potsdam_with_energies.json', 'r') as file:\n",
    "    json_string = file.read()\n",
    "\n",
    "# Convert JSON string to a Python dictionary\n",
    "data = json.loads(json_string)\n",
    "highways = data['highways']\n",
    "areas = data['areas']\n",
    "buildings = data['buildings']"
   ]
  },
  {
   "cell_type": "code",
   "execution_count": 23,
   "metadata": {},
   "outputs": [
    {
     "data": {
      "text/html": [
       "<div>\n",
       "<style scoped>\n",
       "    .dataframe tbody tr th:only-of-type {\n",
       "        vertical-align: middle;\n",
       "    }\n",
       "\n",
       "    .dataframe tbody tr th {\n",
       "        vertical-align: top;\n",
       "    }\n",
       "\n",
       "    .dataframe thead th {\n",
       "        text-align: right;\n",
       "    }\n",
       "</style>\n",
       "<table border=\"1\" class=\"dataframe\">\n",
       "  <thead>\n",
       "    <tr style=\"text-align: right;\">\n",
       "      <th></th>\n",
       "      <th>id</th>\n",
       "      <th>type</th>\n",
       "      <th>geometry</th>\n",
       "      <th>open</th>\n",
       "      <th>base_area</th>\n",
       "      <th>levels</th>\n",
       "      <th>area</th>\n",
       "      <th>winter</th>\n",
       "      <th>summer</th>\n",
       "    </tr>\n",
       "  </thead>\n",
       "  <tbody>\n",
       "    <tr>\n",
       "      <th>4d95005f-be67-429d-99e0-d66be46b37ec</th>\n",
       "      <td>4d95005f-be67-429d-99e0-d66be46b37ec</td>\n",
       "      <td>commercial</td>\n",
       "      <td>[{'lat': 52.3923934, 'lon': 13.0637637}, {'lat...</td>\n",
       "      <td>False</td>\n",
       "      <td>26875.736643</td>\n",
       "      <td>5.0</td>\n",
       "      <td>134378.683214</td>\n",
       "      <td>{'Electro': [1080.7609950468132, 1184.52723691...</td>\n",
       "      <td>{'Electro': [1566.232373089273, 1782.250403138...</td>\n",
       "    </tr>\n",
       "    <tr>\n",
       "      <th>18b63edd-9f2a-433d-ad57-b9c2a19a5f7b</th>\n",
       "      <td>18b63edd-9f2a-433d-ad57-b9c2a19a5f7b</td>\n",
       "      <td>residential</td>\n",
       "      <td>[{'lat': 52.4035918, 'lon': 13.0348541}, {'lat...</td>\n",
       "      <td>False</td>\n",
       "      <td>1911.883325</td>\n",
       "      <td>1.0</td>\n",
       "      <td>1911.883325</td>\n",
       "      <td>{'Electro': [1.4447392830687957, 1.49226310559...</td>\n",
       "      <td>{'Electro': [1.6564333740833095, 1.66241100619...</td>\n",
       "    </tr>\n",
       "    <tr>\n",
       "      <th>92c4f906-b3fd-4300-8b36-2e72b4fa72a2</th>\n",
       "      <td>92c4f906-b3fd-4300-8b36-2e72b4fa72a2</td>\n",
       "      <td>commercial</td>\n",
       "      <td>[{'lat': 52.3898626, 'lon': 13.0662383}, {'lat...</td>\n",
       "      <td>False</td>\n",
       "      <td>281.950951</td>\n",
       "      <td>3.0</td>\n",
       "      <td>845.852852</td>\n",
       "      <td>{'Electro': [9.109565432037884, 6.790031544459...</td>\n",
       "      <td>{'Electro': [16.117182158484848, 9.76328371763...</td>\n",
       "    </tr>\n",
       "    <tr>\n",
       "      <th>bb371c1f-be6a-4d71-97d2-f1ba7b59e465</th>\n",
       "      <td>bb371c1f-be6a-4d71-97d2-f1ba7b59e465</td>\n",
       "      <td>high_density_residential</td>\n",
       "      <td>[{'lat': 52.3902832, 'lon': 13.0653137}, {'lat...</td>\n",
       "      <td>False</td>\n",
       "      <td>295.526487</td>\n",
       "      <td>3.0</td>\n",
       "      <td>886.579461</td>\n",
       "      <td>{'Electro': [1.9660825924560321, 1.25564951400...</td>\n",
       "      <td>{'Electro': [1.6252953077772767, 0.72191541822...</td>\n",
       "    </tr>\n",
       "    <tr>\n",
       "      <th>721508cb-4133-4b18-8623-6886a98f8133</th>\n",
       "      <td>721508cb-4133-4b18-8623-6886a98f8133</td>\n",
       "      <td>high_density_residential</td>\n",
       "      <td>[{'lat': 52.3903082, 'lon': 13.0657574}, {'lat...</td>\n",
       "      <td>False</td>\n",
       "      <td>225.468818</td>\n",
       "      <td>3.0</td>\n",
       "      <td>676.406455</td>\n",
       "      <td>{'Electro': [0.8910132172884115, 0.80465529441...</td>\n",
       "      <td>{'Electro': [0.507145144446488, 0.486923286194...</td>\n",
       "    </tr>\n",
       "    <tr>\n",
       "      <th>...</th>\n",
       "      <td>...</td>\n",
       "      <td>...</td>\n",
       "      <td>...</td>\n",
       "      <td>...</td>\n",
       "      <td>...</td>\n",
       "      <td>...</td>\n",
       "      <td>...</td>\n",
       "      <td>...</td>\n",
       "      <td>...</td>\n",
       "    </tr>\n",
       "    <tr>\n",
       "      <th>742eb172-d15a-4a83-964f-ca4a7b17a0a9</th>\n",
       "      <td>742eb172-d15a-4a83-964f-ca4a7b17a0a9</td>\n",
       "      <td>residential</td>\n",
       "      <td>[{'lat': 52.420662, 'lon': 13.0190441}, {'lat'...</td>\n",
       "      <td>False</td>\n",
       "      <td>37.794527</td>\n",
       "      <td>3.0</td>\n",
       "      <td>113.38358</td>\n",
       "      <td>{'Electro': [0.08567976390334481, 0.0884981477...</td>\n",
       "      <td>{'Electro': [0.09823420881283029, 0.0985887102...</td>\n",
       "    </tr>\n",
       "    <tr>\n",
       "      <th>881d87b2-2a33-4ecf-9666-cf644d0da1a0</th>\n",
       "      <td>881d87b2-2a33-4ecf-9666-cf644d0da1a0</td>\n",
       "      <td>farm</td>\n",
       "      <td>[{'lat': 52.4217875, 'lon': 13.0191705}, {'lat...</td>\n",
       "      <td>False</td>\n",
       "      <td>319.868436</td>\n",
       "      <td>3.0</td>\n",
       "      <td>959.605307</td>\n",
       "      <td>{'Electro': [14.184813953621312, 13.9741006579...</td>\n",
       "      <td>{'Electro': [14.020260225795827, 13.9658924216...</td>\n",
       "    </tr>\n",
       "    <tr>\n",
       "      <th>ec891d2d-482d-4c39-97d5-db013e6f08b6</th>\n",
       "      <td>ec891d2d-482d-4c39-97d5-db013e6f08b6</td>\n",
       "      <td>farm</td>\n",
       "      <td>[{'lat': 52.4214671, 'lon': 13.0190264}, {'lat...</td>\n",
       "      <td>False</td>\n",
       "      <td>135.688047</td>\n",
       "      <td>3.0</td>\n",
       "      <td>407.064142</td>\n",
       "      <td>{'Electro': [6.021528216200496, 6.017191737013...</td>\n",
       "      <td>{'Electro': [5.962951145006954, 5.947388119242...</td>\n",
       "    </tr>\n",
       "    <tr>\n",
       "      <th>4f13a7e8-b09f-407e-b6b5-337bc5b71131</th>\n",
       "      <td>4f13a7e8-b09f-407e-b6b5-337bc5b71131</td>\n",
       "      <td>farm</td>\n",
       "      <td>[{'lat': 52.4214916, 'lon': 13.0189084}, {'lat...</td>\n",
       "      <td>False</td>\n",
       "      <td>135.83054</td>\n",
       "      <td>3.0</td>\n",
       "      <td>407.49162</td>\n",
       "      <td>{'Electro': [5.965008385134324, 6.027851717296...</td>\n",
       "      <td>{'Electro': [5.999351857458459, 5.969213131457...</td>\n",
       "    </tr>\n",
       "    <tr>\n",
       "      <th>fa56fde0-4911-44ef-9b90-fed7b77b9497</th>\n",
       "      <td>fa56fde0-4911-44ef-9b90-fed7b77b9497</td>\n",
       "      <td>farm</td>\n",
       "      <td>[{'lat': 52.4215191, 'lon': 13.018794}, {'lat'...</td>\n",
       "      <td>False</td>\n",
       "      <td>135.837787</td>\n",
       "      <td>3.0</td>\n",
       "      <td>407.513361</td>\n",
       "      <td>{'Electro': [6.028173316991217, 6.023832052251...</td>\n",
       "      <td>{'Electro': [5.969531602649271, 5.953951402195...</td>\n",
       "    </tr>\n",
       "  </tbody>\n",
       "</table>\n",
       "<p>34923 rows × 9 columns</p>\n",
       "</div>"
      ],
      "text/plain": [
       "                                                                        id  \\\n",
       "4d95005f-be67-429d-99e0-d66be46b37ec  4d95005f-be67-429d-99e0-d66be46b37ec   \n",
       "18b63edd-9f2a-433d-ad57-b9c2a19a5f7b  18b63edd-9f2a-433d-ad57-b9c2a19a5f7b   \n",
       "92c4f906-b3fd-4300-8b36-2e72b4fa72a2  92c4f906-b3fd-4300-8b36-2e72b4fa72a2   \n",
       "bb371c1f-be6a-4d71-97d2-f1ba7b59e465  bb371c1f-be6a-4d71-97d2-f1ba7b59e465   \n",
       "721508cb-4133-4b18-8623-6886a98f8133  721508cb-4133-4b18-8623-6886a98f8133   \n",
       "...                                                                    ...   \n",
       "742eb172-d15a-4a83-964f-ca4a7b17a0a9  742eb172-d15a-4a83-964f-ca4a7b17a0a9   \n",
       "881d87b2-2a33-4ecf-9666-cf644d0da1a0  881d87b2-2a33-4ecf-9666-cf644d0da1a0   \n",
       "ec891d2d-482d-4c39-97d5-db013e6f08b6  ec891d2d-482d-4c39-97d5-db013e6f08b6   \n",
       "4f13a7e8-b09f-407e-b6b5-337bc5b71131  4f13a7e8-b09f-407e-b6b5-337bc5b71131   \n",
       "fa56fde0-4911-44ef-9b90-fed7b77b9497  fa56fde0-4911-44ef-9b90-fed7b77b9497   \n",
       "\n",
       "                                                          type  \\\n",
       "4d95005f-be67-429d-99e0-d66be46b37ec                commercial   \n",
       "18b63edd-9f2a-433d-ad57-b9c2a19a5f7b               residential   \n",
       "92c4f906-b3fd-4300-8b36-2e72b4fa72a2                commercial   \n",
       "bb371c1f-be6a-4d71-97d2-f1ba7b59e465  high_density_residential   \n",
       "721508cb-4133-4b18-8623-6886a98f8133  high_density_residential   \n",
       "...                                                        ...   \n",
       "742eb172-d15a-4a83-964f-ca4a7b17a0a9               residential   \n",
       "881d87b2-2a33-4ecf-9666-cf644d0da1a0                      farm   \n",
       "ec891d2d-482d-4c39-97d5-db013e6f08b6                      farm   \n",
       "4f13a7e8-b09f-407e-b6b5-337bc5b71131                      farm   \n",
       "fa56fde0-4911-44ef-9b90-fed7b77b9497                      farm   \n",
       "\n",
       "                                                                               geometry  \\\n",
       "4d95005f-be67-429d-99e0-d66be46b37ec  [{'lat': 52.3923934, 'lon': 13.0637637}, {'lat...   \n",
       "18b63edd-9f2a-433d-ad57-b9c2a19a5f7b  [{'lat': 52.4035918, 'lon': 13.0348541}, {'lat...   \n",
       "92c4f906-b3fd-4300-8b36-2e72b4fa72a2  [{'lat': 52.3898626, 'lon': 13.0662383}, {'lat...   \n",
       "bb371c1f-be6a-4d71-97d2-f1ba7b59e465  [{'lat': 52.3902832, 'lon': 13.0653137}, {'lat...   \n",
       "721508cb-4133-4b18-8623-6886a98f8133  [{'lat': 52.3903082, 'lon': 13.0657574}, {'lat...   \n",
       "...                                                                                 ...   \n",
       "742eb172-d15a-4a83-964f-ca4a7b17a0a9  [{'lat': 52.420662, 'lon': 13.0190441}, {'lat'...   \n",
       "881d87b2-2a33-4ecf-9666-cf644d0da1a0  [{'lat': 52.4217875, 'lon': 13.0191705}, {'lat...   \n",
       "ec891d2d-482d-4c39-97d5-db013e6f08b6  [{'lat': 52.4214671, 'lon': 13.0190264}, {'lat...   \n",
       "4f13a7e8-b09f-407e-b6b5-337bc5b71131  [{'lat': 52.4214916, 'lon': 13.0189084}, {'lat...   \n",
       "fa56fde0-4911-44ef-9b90-fed7b77b9497  [{'lat': 52.4215191, 'lon': 13.018794}, {'lat'...   \n",
       "\n",
       "                                       open     base_area levels  \\\n",
       "4d95005f-be67-429d-99e0-d66be46b37ec  False  26875.736643    5.0   \n",
       "18b63edd-9f2a-433d-ad57-b9c2a19a5f7b  False   1911.883325    1.0   \n",
       "92c4f906-b3fd-4300-8b36-2e72b4fa72a2  False    281.950951    3.0   \n",
       "bb371c1f-be6a-4d71-97d2-f1ba7b59e465  False    295.526487    3.0   \n",
       "721508cb-4133-4b18-8623-6886a98f8133  False    225.468818    3.0   \n",
       "...                                     ...           ...    ...   \n",
       "742eb172-d15a-4a83-964f-ca4a7b17a0a9  False     37.794527    3.0   \n",
       "881d87b2-2a33-4ecf-9666-cf644d0da1a0  False    319.868436    3.0   \n",
       "ec891d2d-482d-4c39-97d5-db013e6f08b6  False    135.688047    3.0   \n",
       "4f13a7e8-b09f-407e-b6b5-337bc5b71131  False     135.83054    3.0   \n",
       "fa56fde0-4911-44ef-9b90-fed7b77b9497  False    135.837787    3.0   \n",
       "\n",
       "                                               area  \\\n",
       "4d95005f-be67-429d-99e0-d66be46b37ec  134378.683214   \n",
       "18b63edd-9f2a-433d-ad57-b9c2a19a5f7b    1911.883325   \n",
       "92c4f906-b3fd-4300-8b36-2e72b4fa72a2     845.852852   \n",
       "bb371c1f-be6a-4d71-97d2-f1ba7b59e465     886.579461   \n",
       "721508cb-4133-4b18-8623-6886a98f8133     676.406455   \n",
       "...                                             ...   \n",
       "742eb172-d15a-4a83-964f-ca4a7b17a0a9      113.38358   \n",
       "881d87b2-2a33-4ecf-9666-cf644d0da1a0     959.605307   \n",
       "ec891d2d-482d-4c39-97d5-db013e6f08b6     407.064142   \n",
       "4f13a7e8-b09f-407e-b6b5-337bc5b71131      407.49162   \n",
       "fa56fde0-4911-44ef-9b90-fed7b77b9497     407.513361   \n",
       "\n",
       "                                                                                 winter  \\\n",
       "4d95005f-be67-429d-99e0-d66be46b37ec  {'Electro': [1080.7609950468132, 1184.52723691...   \n",
       "18b63edd-9f2a-433d-ad57-b9c2a19a5f7b  {'Electro': [1.4447392830687957, 1.49226310559...   \n",
       "92c4f906-b3fd-4300-8b36-2e72b4fa72a2  {'Electro': [9.109565432037884, 6.790031544459...   \n",
       "bb371c1f-be6a-4d71-97d2-f1ba7b59e465  {'Electro': [1.9660825924560321, 1.25564951400...   \n",
       "721508cb-4133-4b18-8623-6886a98f8133  {'Electro': [0.8910132172884115, 0.80465529441...   \n",
       "...                                                                                 ...   \n",
       "742eb172-d15a-4a83-964f-ca4a7b17a0a9  {'Electro': [0.08567976390334481, 0.0884981477...   \n",
       "881d87b2-2a33-4ecf-9666-cf644d0da1a0  {'Electro': [14.184813953621312, 13.9741006579...   \n",
       "ec891d2d-482d-4c39-97d5-db013e6f08b6  {'Electro': [6.021528216200496, 6.017191737013...   \n",
       "4f13a7e8-b09f-407e-b6b5-337bc5b71131  {'Electro': [5.965008385134324, 6.027851717296...   \n",
       "fa56fde0-4911-44ef-9b90-fed7b77b9497  {'Electro': [6.028173316991217, 6.023832052251...   \n",
       "\n",
       "                                                                                 summer  \n",
       "4d95005f-be67-429d-99e0-d66be46b37ec  {'Electro': [1566.232373089273, 1782.250403138...  \n",
       "18b63edd-9f2a-433d-ad57-b9c2a19a5f7b  {'Electro': [1.6564333740833095, 1.66241100619...  \n",
       "92c4f906-b3fd-4300-8b36-2e72b4fa72a2  {'Electro': [16.117182158484848, 9.76328371763...  \n",
       "bb371c1f-be6a-4d71-97d2-f1ba7b59e465  {'Electro': [1.6252953077772767, 0.72191541822...  \n",
       "721508cb-4133-4b18-8623-6886a98f8133  {'Electro': [0.507145144446488, 0.486923286194...  \n",
       "...                                                                                 ...  \n",
       "742eb172-d15a-4a83-964f-ca4a7b17a0a9  {'Electro': [0.09823420881283029, 0.0985887102...  \n",
       "881d87b2-2a33-4ecf-9666-cf644d0da1a0  {'Electro': [14.020260225795827, 13.9658924216...  \n",
       "ec891d2d-482d-4c39-97d5-db013e6f08b6  {'Electro': [5.962951145006954, 5.947388119242...  \n",
       "4f13a7e8-b09f-407e-b6b5-337bc5b71131  {'Electro': [5.999351857458459, 5.969213131457...  \n",
       "fa56fde0-4911-44ef-9b90-fed7b77b9497  {'Electro': [5.969531602649271, 5.953951402195...  \n",
       "\n",
       "[34923 rows x 9 columns]"
      ]
     },
     "execution_count": 23,
     "metadata": {},
     "output_type": "execute_result"
    }
   ],
   "source": [
    "df = pd.DataFrame(buildings).T\n",
    "df"
   ]
  },
  {
   "cell_type": "code",
   "execution_count": 26,
   "metadata": {},
   "outputs": [],
   "source": [
    "df['winter_electro'] = df.apply(lambda x: sum(x['winter']['Electro']), axis=1)\n",
    "df['summer_electro'] = df.apply(lambda x: sum(x['summer']['Electro']), axis=1)\n",
    "df['winter_heating'] = df.apply(lambda x: sum(x['winter']['Heating']) if 'Heating' in x['winter'] else 0, axis=1)\n",
    "df['summer_heating'] = df.apply(lambda x: sum(x['summer']['Heating']) if 'Heating' in x['summer'] else 0, axis=1)"
   ]
  },
  {
   "cell_type": "code",
   "execution_count": 27,
   "metadata": {},
   "outputs": [],
   "source": [
    "df['heating'] = df['winter_heating'] + df['summer_heating']\n",
    "df['electro'] = df['winter_electro'] + df['summer_electro']"
   ]
  },
  {
   "cell_type": "code",
   "execution_count": 37,
   "metadata": {},
   "outputs": [],
   "source": [
    "systems = json.load(open('./data/systems.json', 'r'))\n",
    "oil = systems['supplier']['OilBoiler']\n",
    "powerplant = systems['supplier']['ElectricPowerPlant']"
   ]
  },
  {
   "cell_type": "code",
   "execution_count": 45,
   "metadata": {},
   "outputs": [
    {
     "data": {
      "text/plain": [
       "(0.14, 0.43)"
      ]
     },
     "execution_count": 45,
     "metadata": {},
     "output_type": "execute_result"
    }
   ],
   "source": [
    "oil['operatingCost'], powerplant['operatingCost']"
   ]
  },
  {
   "cell_type": "code",
   "execution_count": 38,
   "metadata": {},
   "outputs": [],
   "source": [
    "total_electro = df['electro'].sum()\n",
    "electro_price = total_electro * powerplant['operatingCost']\n",
    "electro_co2 = total_electro * powerplant['co2']"
   ]
  },
  {
   "cell_type": "code",
   "execution_count": 39,
   "metadata": {},
   "outputs": [],
   "source": [
    "total_heating = df['heating'].sum()\n",
    "heating_price = total_heating * oil['operatingCost']\n",
    "heating_co2 = total_heating * oil['co2']"
   ]
  },
  {
   "cell_type": "code",
   "execution_count": 47,
   "metadata": {},
   "outputs": [
    {
     "data": {
      "text/plain": [
       "(7759088.315197916, 14434596.974458503)"
      ]
     },
     "execution_count": 47,
     "metadata": {},
     "output_type": "execute_result"
    }
   ],
   "source": [
    "total_electro, total_heating"
   ]
  },
  {
   "cell_type": "code",
   "execution_count": 48,
   "metadata": {},
   "outputs": [
    {
     "data": {
      "text/plain": [
       "(3336407.9755351036, 2020843.5764241905)"
      ]
     },
     "execution_count": 48,
     "metadata": {},
     "output_type": "execute_result"
    }
   ],
   "source": [
    "electro_price, heating_price"
   ]
  },
  {
   "cell_type": "code",
   "execution_count": 41,
   "metadata": {},
   "outputs": [
    {
     "data": {
      "text/plain": [
       "5357251.551959294"
      ]
     },
     "execution_count": 41,
     "metadata": {},
     "output_type": "execute_result"
    }
   ],
   "source": [
    "electro_price + heating_price"
   ]
  },
  {
   "cell_type": "code",
   "execution_count": 42,
   "metadata": {},
   "outputs": [
    {
     "data": {
      "text/plain": [
       "7434014.418416717"
      ]
     },
     "execution_count": 42,
     "metadata": {},
     "output_type": "execute_result"
    }
   ],
   "source": [
    "heating_co2 + electro_co2"
   ]
  },
  {
   "cell_type": "code",
   "execution_count": 55,
   "metadata": {},
   "outputs": [
    {
     "data": {
      "text/plain": [
       "24442460205.814278"
      ]
     },
     "execution_count": 55,
     "metadata": {},
     "output_type": "execute_result"
    }
   ],
   "source": [
    "yearly_price = (electro_price + heating_price)*365/2*25\n",
    "yearly_price"
   ]
  },
  {
   "cell_type": "code",
   "execution_count": 56,
   "metadata": {},
   "outputs": [
    {
     "data": {
      "text/plain": [
       "33917690784.02627"
      ]
     },
     "execution_count": 56,
     "metadata": {},
     "output_type": "execute_result"
    }
   ],
   "source": [
    "yearly_cos = (heating_co2 + electro_co2)*365/2*25\n",
    "yearly_cos"
   ]
  }
 ],
 "metadata": {
  "kernelspec": {
   "display_name": "bmsml",
   "language": "python",
   "name": "python3"
  },
  "language_info": {
   "codemirror_mode": {
    "name": "ipython",
    "version": 3
   },
   "file_extension": ".py",
   "mimetype": "text/x-python",
   "name": "python",
   "nbconvert_exporter": "python",
   "pygments_lexer": "ipython3",
   "version": "3.12.0"
  }
 },
 "nbformat": 4,
 "nbformat_minor": 2
}
