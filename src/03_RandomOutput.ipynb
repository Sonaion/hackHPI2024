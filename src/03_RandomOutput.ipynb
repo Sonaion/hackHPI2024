{
 "cells": [
  {
   "cell_type": "code",
   "execution_count": 1,
   "id": "initial_id",
   "metadata": {
    "collapsed": true,
    "ExecuteTime": {
     "end_time": "2024-04-06T01:08:03.528492900Z",
     "start_time": "2024-04-06T01:08:02.504688900Z"
    }
   },
   "outputs": [],
   "source": [
    "import pandas\n",
    "import json\n"
   ]
  },
  {
   "cell_type": "code",
   "execution_count": 2,
   "outputs": [],
   "source": [
    "length_of = 5"
   ],
   "metadata": {
    "collapsed": false,
    "ExecuteTime": {
     "end_time": "2024-04-06T01:08:03.546461400Z",
     "start_time": "2024-04-06T01:08:03.529495600Z"
    }
   },
   "id": "2ee45a60cdd60c02"
  },
  {
   "cell_type": "code",
   "execution_count": 3,
   "outputs": [
    {
     "data": {
      "text/plain": "dict_keys(['total', 'supplier', 'storages', 'buildings', 'areas', 'line'])"
     },
     "execution_count": 3,
     "metadata": {},
     "output_type": "execute_result"
    }
   ],
   "source": [
    "template_path = \"../data/output/template.json\"\n",
    "template = json.load(open(template_path))\n",
    "template.keys()"
   ],
   "metadata": {
    "collapsed": false,
    "ExecuteTime": {
     "end_time": "2024-04-06T01:08:03.546461400Z",
     "start_time": "2024-04-06T01:08:03.534606400Z"
    }
   },
   "id": "3a2f0717f41f1442"
  },
  {
   "cell_type": "code",
   "execution_count": 4,
   "outputs": [
    {
     "data": {
      "text/plain": "dict_keys(['supplier', 'storages', 'line'])"
     },
     "execution_count": 4,
     "metadata": {},
     "output_type": "execute_result"
    }
   ],
   "source": [
    "systems_path = \"../data/systems_optional.json\"\n",
    "systems = json.load(open(systems_path))\n",
    "systems.keys()"
   ],
   "metadata": {
    "collapsed": false,
    "ExecuteTime": {
     "end_time": "2024-04-06T01:08:03.599688800Z",
     "start_time": "2024-04-06T01:08:03.544482100Z"
    }
   },
   "id": "a63b783f80b5205f"
  },
  {
   "cell_type": "code",
   "execution_count": 5,
   "outputs": [
    {
     "data": {
      "text/plain": "dict_keys(['highways', 'areas', 'buildings'])"
     },
     "execution_count": 5,
     "metadata": {},
     "output_type": "execute_result"
    }
   ],
   "source": [
    "arnis_path = \"../data/total_Arnis.json\"\n",
    "arnis = json.load(open(arnis_path))\n",
    "arnis.keys()"
   ],
   "metadata": {
    "collapsed": false,
    "ExecuteTime": {
     "end_time": "2024-04-06T01:08:03.599688800Z",
     "start_time": "2024-04-06T01:08:03.554608500Z"
    }
   },
   "id": "26d8ba9ba1c4503b"
  },
  {
   "cell_type": "code",
   "execution_count": 6,
   "outputs": [],
   "source": [
    "highway_coordinates = {}"
   ],
   "metadata": {
    "collapsed": false,
    "ExecuteTime": {
     "end_time": "2024-04-06T01:08:03.600689700Z",
     "start_time": "2024-04-06T01:08:03.565872900Z"
    }
   },
   "id": "57202e46a18fc910"
  },
  {
   "cell_type": "code",
   "execution_count": 7,
   "outputs": [],
   "source": [
    "def generate_coordinate_id(coordinate):\n",
    "    return f\"lat<{coordinate[\"lat\"]}>lon<{coordinate[\"lon\"]}>\""
   ],
   "metadata": {
    "collapsed": false,
    "ExecuteTime": {
     "end_time": "2024-04-06T01:08:03.600689700Z",
     "start_time": "2024-04-06T01:08:03.570171400Z"
    }
   },
   "id": "12dcdcfc285b98bb"
  },
  {
   "cell_type": "code",
   "execution_count": 8,
   "outputs": [],
   "source": [
    "from objects import Coordinate"
   ],
   "metadata": {
    "collapsed": false,
    "ExecuteTime": {
     "end_time": "2024-04-06T01:08:03.600689700Z",
     "start_time": "2024-04-06T01:08:03.576788200Z"
    }
   },
   "id": "b103ebfb524e3fd4"
  },
  {
   "cell_type": "code",
   "execution_count": 9,
   "outputs": [],
   "source": [
    "buildings = arnis[\"buildings\"]\n",
    "buildings_coordinates = {}\n",
    "for buildingId, building in buildings.items():\n",
    "    geometry = building[\"geometry\"]\n",
    "    for coordinate in geometry:\n",
    "        buildings_coordinates[generate_coordinate_id(coordinate)] = Coordinate.deserialize(coordinate)"
   ],
   "metadata": {
    "collapsed": false,
    "ExecuteTime": {
     "end_time": "2024-04-06T01:08:03.602108700Z",
     "start_time": "2024-04-06T01:08:03.584729900Z"
    }
   },
   "id": "d691dcbc600fcc5c"
  },
  {
   "cell_type": "code",
   "execution_count": 10,
   "outputs": [],
   "source": [
    "arnis_output = template.copy()"
   ],
   "metadata": {
    "collapsed": false,
    "ExecuteTime": {
     "end_time": "2024-04-06T01:08:03.602108700Z",
     "start_time": "2024-04-06T01:08:03.593734400Z"
    }
   },
   "id": "54fb260a295fadde"
  },
  {
   "cell_type": "code",
   "execution_count": 11,
   "outputs": [],
   "source": [
    "import random"
   ],
   "metadata": {
    "collapsed": false,
    "ExecuteTime": {
     "end_time": "2024-04-06T01:08:03.624350500Z",
     "start_time": "2024-04-06T01:08:03.599688800Z"
    }
   },
   "id": "274b294cd21b37c7"
  },
  {
   "cell_type": "code",
   "execution_count": 12,
   "outputs": [],
   "source": [
    "usage = [random.randint(0, 100) for _ in range(length_of)]"
   ],
   "metadata": {
    "collapsed": false,
    "ExecuteTime": {
     "end_time": "2024-04-06T01:08:03.624350500Z",
     "start_time": "2024-04-06T01:08:03.604987100Z"
    }
   },
   "id": "f6487cc83239ff0e"
  },
  {
   "cell_type": "code",
   "execution_count": 13,
   "outputs": [],
   "source": [
    "arnis_output[\"buildings\"] = {}\n",
    "for buildingId, building in buildings.items():\n",
    "    arnis_output[\"buildings\"][buildingId] = {}\n",
    "    arnis_output[\"buildings\"][buildingId][\"supplier\"] = {}\n",
    "    for systemKey, system in systems[\"supplier\"].items():\n",
    "        arnis_output[\"buildings\"][buildingId][\"supplier\"][systemKey] = {\n",
    "            \"usage\": usage,\n",
    "            \"totalInvest\": random.randint(0, 10000),\n",
    "            \"operatingCost\": random.randint(0, 10000),\n",
    "            \"totalCo2\": random.randint(0, 10000),\n",
    "            \"totalArea\": random.randint(0, 10),\n",
    "        }\n",
    "\n",
    "    demands = {\n",
    "        \"Electro\": usage,\n",
    "        \"Heating\": usage,\n",
    "    }\n",
    "\n",
    "    arnis_output[\"buildings\"][buildingId][\"demands\"] = demands"
   ],
   "metadata": {
    "collapsed": false,
    "ExecuteTime": {
     "end_time": "2024-04-06T01:08:03.690621500Z",
     "start_time": "2024-04-06T01:08:03.614318Z"
    }
   },
   "id": "e35500efa51f1987"
  },
  {
   "cell_type": "code",
   "execution_count": 14,
   "outputs": [],
   "source": [
    "areas = arnis[\"areas\"]\n",
    "areas_coordinates = {}\n",
    "for areaId, area in areas.items():\n",
    "    geometry = area[\"geometry\"]\n",
    "    for coordinate in geometry:\n",
    "        areas_coordinates[generate_coordinate_id(coordinate)] = Coordinate.deserialize(coordinate)"
   ],
   "metadata": {
    "collapsed": false,
    "ExecuteTime": {
     "end_time": "2024-04-06T01:08:03.710106500Z",
     "start_time": "2024-04-06T01:08:03.632655900Z"
    }
   },
   "id": "1fa3adb78f37e931"
  },
  {
   "cell_type": "code",
   "execution_count": 15,
   "outputs": [],
   "source": [
    "arnis_output[\"areas\"] = {}\n",
    "for areaId, area in areas.items():\n",
    "    arnis_output[\"areas\"][areaId]= {}\n",
    "    arnis_output[\"areas\"][areaId][\"supplier\"] = {}\n",
    "    for systemKey, system in systems[\"supplier\"].items():\n",
    "        arnis_output[\"areas\"][areaId][\"supplier\"][systemKey] = {\n",
    "            \"usage\": usage,\n",
    "            \"totalInvest\": random.randint(0, 10000),\n",
    "            \"operatingCost\": random.randint(0, 10000),\n",
    "            \"totalCo2\": random.randint(0, 10000),\n",
    "            \"totalArea\": random.randint(0, 10),\n",
    "        }"
   ],
   "metadata": {
    "collapsed": false,
    "ExecuteTime": {
     "end_time": "2024-04-06T01:08:03.710106500Z",
     "start_time": "2024-04-06T01:08:03.637740600Z"
    }
   },
   "id": "cfd334b85cabbad4"
  },
  {
   "cell_type": "code",
   "execution_count": 16,
   "outputs": [],
   "source": [
    "highways = arnis[\"highways\"]\n",
    "highways_coordinates = {}\n",
    "for highwayId, highway in highways.items():\n",
    "    geometry = highway[\"geometry\"]\n",
    "    for coordinate in geometry:\n",
    "        highways_coordinates[generate_coordinate_id(coordinate)] = Coordinate.deserialize(coordinate)"
   ],
   "metadata": {
    "collapsed": false,
    "ExecuteTime": {
     "end_time": "2024-04-06T01:08:03.710106500Z",
     "start_time": "2024-04-06T01:08:03.644607300Z"
    }
   },
   "id": "6a16e5870a7bf6bf"
  },
  {
   "cell_type": "code",
   "execution_count": 17,
   "outputs": [],
   "source": [
    "lines = systems[\"line\"]\n",
    "lines = [line for line in lines.values()]"
   ],
   "metadata": {
    "collapsed": false,
    "ExecuteTime": {
     "end_time": "2024-04-06T01:08:03.710106500Z",
     "start_time": "2024-04-06T01:08:03.652278100Z"
    }
   },
   "id": "d985d823a7976a1c"
  },
  {
   "cell_type": "code",
   "execution_count": 18,
   "outputs": [],
   "source": [
    "arnis_output[\"line\"] = {}\n",
    "pipes = []\n",
    "for highwayId, highway in highways.items():\n",
    "    # with a chance of 50% we will skip\n",
    "    if random.randint(0, 1) == 0:\n",
    "        continue\n",
    "\n",
    "    # choose a random line\n",
    "    line = random.choice(lines)\n",
    "    kind = line[\"name\"]\n",
    "    used_nodes = []\n",
    "    connections = []\n",
    "\n",
    "    coordinates = highway[\"geometry\"]\n",
    "    for coordinate in coordinates:\n",
    "        coordinate_id = generate_coordinate_id(coordinate)\n",
    "        used_nodes.append(coordinate_id)\n",
    "\n",
    "    for idx, coordinate in enumerate(coordinates):\n",
    "        if idx == len(coordinates) - 1:\n",
    "            break\n",
    "        connections.append({\n",
    "            \"from\": generate_coordinate_id(coordinates[idx]),\n",
    "            \"to\": generate_coordinate_id(coordinates[idx + 1]),\n",
    "            \"capacity\": random.randint(0, 100),\n",
    "            \"usage\": usage,\n",
    "            \"loss\": [0 for _ in range(length_of)],\n",
    "        })\n",
    "\n",
    "    pipe = {\n",
    "        \"kind\": kind,\n",
    "        \"connections\": connections,\n",
    "        \"usedNodes\": used_nodes,\n",
    "        \"totalInvest\": random.randint(0, 10000),\n",
    "        \"operatingCost\": random.randint(0, 10000),\n",
    "        \"totalCo2\": random.randint(0, 10000),\n",
    "    }\n",
    "\n",
    "    pipes.append(pipe)\n",
    "\n",
    "arnis_output[\"line\"] = pipes\n"
   ],
   "metadata": {
    "collapsed": false,
    "ExecuteTime": {
     "end_time": "2024-04-06T01:08:03.711110Z",
     "start_time": "2024-04-06T01:08:03.660584800Z"
    }
   },
   "id": "845f77d9f8f8f689"
  },
  {
   "cell_type": "code",
   "execution_count": 19,
   "outputs": [],
   "source": [
    "with open(\"../data/output/arnis_random.json\", \"w\") as f:\n",
    "    json.dump(arnis_output, f)"
   ],
   "metadata": {
    "collapsed": false,
    "ExecuteTime": {
     "end_time": "2024-04-06T01:08:03.760646600Z",
     "start_time": "2024-04-06T01:08:03.666576300Z"
    }
   },
   "id": "c6229f186fef437f"
  }
 ],
 "metadata": {
  "kernelspec": {
   "display_name": "Python 3",
   "language": "python",
   "name": "python3"
  },
  "language_info": {
   "codemirror_mode": {
    "name": "ipython",
    "version": 2
   },
   "file_extension": ".py",
   "mimetype": "text/x-python",
   "name": "python",
   "nbconvert_exporter": "python",
   "pygments_lexer": "ipython2",
   "version": "2.7.6"
  }
 },
 "nbformat": 4,
 "nbformat_minor": 5
}
