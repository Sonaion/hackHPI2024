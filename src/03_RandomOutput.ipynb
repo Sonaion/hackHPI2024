{
 "cells": [
  {
   "cell_type": "code",
   "execution_count": 137,
   "id": "initial_id",
   "metadata": {
    "collapsed": true,
    "ExecuteTime": {
     "end_time": "2024-04-06T00:27:03.297681300Z",
     "start_time": "2024-04-06T00:27:03.293807300Z"
    }
   },
   "outputs": [],
   "source": [
    "import pandas\n",
    "import json\n"
   ]
  },
  {
   "cell_type": "code",
   "execution_count": 138,
   "outputs": [],
   "source": [
    "length_of = 5"
   ],
   "metadata": {
    "collapsed": false,
    "ExecuteTime": {
     "end_time": "2024-04-06T00:27:03.513487300Z",
     "start_time": "2024-04-06T00:27:03.466461700Z"
    }
   },
   "id": "2ee45a60cdd60c02"
  },
  {
   "cell_type": "code",
   "execution_count": 139,
   "outputs": [
    {
     "data": {
      "text/plain": "dict_keys(['total', 'supplier', 'storages', 'buildings', 'areas', 'line'])"
     },
     "execution_count": 139,
     "metadata": {},
     "output_type": "execute_result"
    }
   ],
   "source": [
    "template_path = \"../data/output/template.json\"\n",
    "template = json.load(open(template_path))\n",
    "template.keys()"
   ],
   "metadata": {
    "collapsed": false,
    "ExecuteTime": {
     "end_time": "2024-04-06T00:27:03.665536300Z",
     "start_time": "2024-04-06T00:27:03.623437700Z"
    }
   },
   "id": "3a2f0717f41f1442"
  },
  {
   "cell_type": "code",
   "execution_count": 140,
   "outputs": [
    {
     "data": {
      "text/plain": "dict_keys(['supplier', 'storages', 'line'])"
     },
     "execution_count": 140,
     "metadata": {},
     "output_type": "execute_result"
    }
   ],
   "source": [
    "systems_path = \"../data/systems_optional.json\"\n",
    "systems = json.load(open(systems_path))\n",
    "systems.keys()"
   ],
   "metadata": {
    "collapsed": false,
    "ExecuteTime": {
     "end_time": "2024-04-06T00:27:03.787473200Z",
     "start_time": "2024-04-06T00:27:03.765480300Z"
    }
   },
   "id": "a63b783f80b5205f"
  },
  {
   "cell_type": "code",
   "execution_count": 141,
   "outputs": [
    {
     "data": {
      "text/plain": "dict_keys(['highways', 'areas', 'buildings'])"
     },
     "execution_count": 141,
     "metadata": {},
     "output_type": "execute_result"
    }
   ],
   "source": [
    "arnis_path = \"../data/total_Arnis.json\"\n",
    "arnis = json.load(open(arnis_path))\n",
    "arnis.keys()"
   ],
   "metadata": {
    "collapsed": false,
    "ExecuteTime": {
     "end_time": "2024-04-06T00:27:03.959386900Z",
     "start_time": "2024-04-06T00:27:03.928261500Z"
    }
   },
   "id": "26d8ba9ba1c4503b"
  },
  {
   "cell_type": "code",
   "execution_count": 142,
   "outputs": [],
   "source": [
    "highway_coordinates = {}"
   ],
   "metadata": {
    "collapsed": false,
    "ExecuteTime": {
     "end_time": "2024-04-06T00:27:04.132579400Z",
     "start_time": "2024-04-06T00:27:04.101100900Z"
    }
   },
   "id": "57202e46a18fc910"
  },
  {
   "cell_type": "code",
   "execution_count": 143,
   "outputs": [],
   "source": [
    "def generate_coordinate_id(coordinate):\n",
    "    return f\"lat<{coordinate[\"lat\"]}>lon<{coordinate[\"lon\"]}>\""
   ],
   "metadata": {
    "collapsed": false,
    "ExecuteTime": {
     "end_time": "2024-04-06T00:27:04.354178Z",
     "start_time": "2024-04-06T00:27:04.306944200Z"
    }
   },
   "id": "12dcdcfc285b98bb"
  },
  {
   "cell_type": "code",
   "execution_count": 144,
   "outputs": [],
   "source": [
    "from objects import Coordinate"
   ],
   "metadata": {
    "collapsed": false,
    "ExecuteTime": {
     "end_time": "2024-04-06T00:27:04.990650100Z",
     "start_time": "2024-04-06T00:27:04.943901100Z"
    }
   },
   "id": "b103ebfb524e3fd4"
  },
  {
   "cell_type": "code",
   "execution_count": 145,
   "outputs": [],
   "source": [
    "buildings = arnis[\"buildings\"]\n",
    "buildings_coordinates = {}\n",
    "for buildingId, building in buildings.items():\n",
    "    geometry = building[\"geometry\"]\n",
    "    for coordinate in geometry:\n",
    "        buildings_coordinates[generate_coordinate_id(coordinate)] = Coordinate.deserialize(coordinate)"
   ],
   "metadata": {
    "collapsed": false,
    "ExecuteTime": {
     "end_time": "2024-04-06T00:27:05.368534700Z",
     "start_time": "2024-04-06T00:27:05.321428700Z"
    }
   },
   "id": "d691dcbc600fcc5c"
  },
  {
   "cell_type": "code",
   "execution_count": 146,
   "outputs": [],
   "source": [
    "arnis_output = template.copy()"
   ],
   "metadata": {
    "collapsed": false,
    "ExecuteTime": {
     "end_time": "2024-04-06T00:27:05.839418500Z",
     "start_time": "2024-04-06T00:27:05.807460900Z"
    }
   },
   "id": "54fb260a295fadde"
  },
  {
   "cell_type": "code",
   "execution_count": 147,
   "outputs": [],
   "source": [
    "import random"
   ],
   "metadata": {
    "collapsed": false,
    "ExecuteTime": {
     "end_time": "2024-04-06T00:27:06.427605600Z",
     "start_time": "2024-04-06T00:27:06.380505300Z"
    }
   },
   "id": "274b294cd21b37c7"
  },
  {
   "cell_type": "code",
   "execution_count": 148,
   "outputs": [],
   "source": [
    "usage = [random.randint(0, 100) for _ in range(length_of)]"
   ],
   "metadata": {
    "collapsed": false,
    "ExecuteTime": {
     "end_time": "2024-04-06T00:27:07.037569300Z",
     "start_time": "2024-04-06T00:27:07.031822800Z"
    }
   },
   "id": "f6487cc83239ff0e"
  },
  {
   "cell_type": "code",
   "execution_count": 149,
   "outputs": [],
   "source": [
    "arnis_output[\"buildings\"] = {}\n",
    "for buildingId, building in buildings.items():\n",
    "    arnis_output[\"buildings\"][buildingId] = {}\n",
    "    arnis_output[\"buildings\"][buildingId][\"supplier\"] = {}\n",
    "    for systemKey, system in systems[\"supplier\"].items():\n",
    "        arnis_output[\"buildings\"][buildingId][\"supplier\"][systemKey] = {\n",
    "            \"usage\": usage,\n",
    "            \"totalInvest\": random.randint(0, 10000),\n",
    "            \"operatingCost\": random.randint(0, 10000),\n",
    "            \"totalCo2\": random.randint(0, 10000),\n",
    "            \"totalArea\": random.randint(0, 10),\n",
    "        }\n",
    "\n",
    "    demands = {\n",
    "        \"Electro\": usage,\n",
    "        \"Heating\": usage,\n",
    "    }\n",
    "\n",
    "    arnis_output[\"buildings\"][buildingId][\"demands\"] = demands"
   ],
   "metadata": {
    "collapsed": false,
    "ExecuteTime": {
     "end_time": "2024-04-06T00:27:07.572693900Z",
     "start_time": "2024-04-06T00:27:07.524331300Z"
    }
   },
   "id": "e35500efa51f1987"
  },
  {
   "cell_type": "code",
   "execution_count": 150,
   "outputs": [],
   "source": [
    "areas = arnis[\"areas\"]\n",
    "areas_coordinates = {}\n",
    "for areaId, area in areas.items():\n",
    "    geometry = area[\"geometry\"]\n",
    "    for coordinate in geometry:\n",
    "        areas_coordinates[generate_coordinate_id(coordinate)] = Coordinate.deserialize(coordinate)"
   ],
   "metadata": {
    "collapsed": false,
    "ExecuteTime": {
     "end_time": "2024-04-06T00:27:08.176473600Z",
     "start_time": "2024-04-06T00:27:08.140276600Z"
    }
   },
   "id": "1fa3adb78f37e931"
  },
  {
   "cell_type": "code",
   "execution_count": 151,
   "outputs": [],
   "source": [
    "arnis_output[\"areas\"] = {}\n",
    "for areaId, area in areas.items():\n",
    "    arnis_output[\"areas\"][areaId]= {}\n",
    "    arnis_output[\"areas\"][areaId][\"supplier\"] = {}\n",
    "    for systemKey, system in systems[\"supplier\"].items():\n",
    "        arnis_output[\"areas\"][areaId][\"supplier\"][systemKey] = {\n",
    "            \"usage\": usage,\n",
    "            \"totalInvest\": random.randint(0, 10000),\n",
    "            \"operatingCost\": random.randint(0, 10000),\n",
    "            \"totalCo2\": random.randint(0, 10000),\n",
    "            \"totalArea\": random.randint(0, 10),\n",
    "        }"
   ],
   "metadata": {
    "collapsed": false,
    "ExecuteTime": {
     "end_time": "2024-04-06T00:27:08.549138100Z",
     "start_time": "2024-04-06T00:27:08.517505300Z"
    }
   },
   "id": "cfd334b85cabbad4"
  },
  {
   "cell_type": "code",
   "execution_count": 152,
   "outputs": [],
   "source": [
    "highways = arnis[\"highways\"]\n",
    "highways_coordinates = {}\n",
    "for highwayId, highway in highways.items():\n",
    "    geometry = highway[\"geometry\"]\n",
    "    for coordinate in geometry:\n",
    "        highways_coordinates[generate_coordinate_id(coordinate)] = Coordinate.deserialize(coordinate)"
   ],
   "metadata": {
    "collapsed": false,
    "ExecuteTime": {
     "end_time": "2024-04-06T00:27:10.693046400Z",
     "start_time": "2024-04-06T00:27:10.673450Z"
    }
   },
   "id": "6a16e5870a7bf6bf"
  },
  {
   "cell_type": "code",
   "execution_count": 153,
   "outputs": [],
   "source": [
    "lines = systems[\"line\"]\n",
    "lines = [line for line in lines.values()]"
   ],
   "metadata": {
    "collapsed": false,
    "ExecuteTime": {
     "end_time": "2024-04-06T00:27:11.055462400Z",
     "start_time": "2024-04-06T00:27:11.007706700Z"
    }
   },
   "id": "d985d823a7976a1c"
  },
  {
   "cell_type": "code",
   "execution_count": 154,
   "outputs": [],
   "source": [
    "arnis_output[\"line\"] = {}\n",
    "pipes = []\n",
    "for highwayId, highway in highways.items():\n",
    "    # with a chance of 50% we will skip\n",
    "    if random.randint(0, 1) == 0:\n",
    "        continue\n",
    "\n",
    "    # choose a random line\n",
    "    line = random.choice(lines)\n",
    "    kind = line[\"name\"]\n",
    "    used_nodes = []\n",
    "    connections = []\n",
    "\n",
    "    coordinates = highway[\"geometry\"]\n",
    "    for coordinate in coordinates:\n",
    "        coordinate_id = generate_coordinate_id(coordinate)\n",
    "        used_nodes.append(coordinate_id)\n",
    "\n",
    "    for idx, coordinate in enumerate(coordinates):\n",
    "        if idx == len(coordinates) - 1:\n",
    "            break\n",
    "        connections.append({\n",
    "            \"from\": generate_coordinate_id(coordinates[idx]),\n",
    "            \"to\": generate_coordinate_id(coordinates[idx + 1]),\n",
    "            \"capacity\": random.randint(0, 100),\n",
    "            \"usage\": usage,\n",
    "            \"loss\": [0 for _ in range(length_of)],\n",
    "        })\n",
    "\n",
    "    pipe = {\n",
    "        \"kind\": kind,\n",
    "        \"connections\": connections,\n",
    "        \"usedNodes\": used_nodes,\n",
    "        \"totalInvest\": random.randint(0, 10000),\n",
    "        \"operatingCost\": random.randint(0, 10000),\n",
    "        \"totalCo2\": random.randint(0, 10000),\n",
    "    }\n",
    "\n",
    "    pipes.append(pipe)\n",
    "\n",
    "arnis_output[\"line\"] = pipes\n"
   ],
   "metadata": {
    "collapsed": false,
    "ExecuteTime": {
     "end_time": "2024-04-06T00:27:11.394359500Z",
     "start_time": "2024-04-06T00:27:11.362658100Z"
    }
   },
   "id": "845f77d9f8f8f689"
  },
  {
   "cell_type": "code",
   "execution_count": 155,
   "outputs": [],
   "source": [
    "with open(\"../data/output/arnis_random.json\", \"w\") as f:\n",
    "    json.dump(arnis_output, f)"
   ],
   "metadata": {
    "collapsed": false,
    "ExecuteTime": {
     "end_time": "2024-04-06T00:27:11.927399400Z",
     "start_time": "2024-04-06T00:27:11.817534900Z"
    }
   },
   "id": "c6229f186fef437f"
  },
  {
   "cell_type": "code",
   "execution_count": 156,
   "outputs": [
    {
     "data": {
      "text/plain": "{'Photovoltaic': {'totalInvest': 0,\n  'operatingCost': 0,\n  'totalCo2': 0,\n  'totalArea': 0}}"
     },
     "execution_count": 156,
     "metadata": {},
     "output_type": "execute_result"
    }
   ],
   "source": [
    "arnis_output[\"supplier\"]"
   ],
   "metadata": {
    "collapsed": false,
    "ExecuteTime": {
     "end_time": "2024-04-06T00:27:12.179903300Z",
     "start_time": "2024-04-06T00:27:12.147932400Z"
    }
   },
   "id": "51d5ffefaacfef13"
  },
  {
   "cell_type": "code",
   "execution_count": 157,
   "outputs": [],
   "source": [
    "import re\n",
    "\n",
    "pattern = re.compile(r\"lat<([+-]?[0-9]*[.]?[0-9]+)>lon<([+-]?[0-9]*[.]?[0-9]+)>\")\n",
    "\n",
    "solution = arnis_output\n",
    "system_file = \"./../data/systems_optional.json\"\n",
    "with open(system_file, \"r\") as file:\n",
    "    systems = json.load(file)\n",
    "\n",
    "suppliers_options = systems[\"supplier\"]\n",
    "pipe_options = systems[\"line\"]\n",
    "\n",
    "areas = solution[\"areas\"]\n",
    "pipes = solution[\"line\"]"
   ],
   "metadata": {
    "collapsed": false,
    "ExecuteTime": {
     "end_time": "2024-04-06T00:27:12.625829200Z",
     "start_time": "2024-04-06T00:27:12.594232900Z"
    }
   },
   "id": "911447610c0ec645"
  },
  {
   "cell_type": "code",
   "execution_count": 159,
   "outputs": [],
   "source": [
    "buildings = solution[\"buildings\"]\n",
    "buildingSupplierRender = {}\n",
    "supplierTypes = set()\n",
    "orgBuildings = arnis[\"buildings\"]\n",
    "\n",
    "supplierRenders = {}\n",
    "for supplierType in suppliers_options:\n",
    "    coordinateLat = []\n",
    "    coordinateLon = []\n",
    "    hoverText = []\n",
    "    for buildingId, building in buildings.items():\n",
    "        suppliers = building[\"supplier\"]\n",
    "        if supplierType not in suppliers:\n",
    "            continue\n",
    "        orgBuilding = orgBuildings[buildingId]\n",
    "        geometry = orgBuilding[\"geometry\"]\n",
    "        most_north_east = geometry[0]\n",
    "        for coordinate in geometry:\n",
    "            if coordinate[\"lat\"] > most_north_east[\"lat\"] and coordinate[\"lon\"] > most_north_east[\"lon\"]:\n",
    "                most_north_east = coordinate\n",
    "                \n",
    "        coordinateLat.append(most_north_east[\"lat\"])\n",
    "        coordinateLon.append(most_north_east[\"lon\"])\n",
    "        hoverText.append(supplierType)\n",
    "        \n",
    "    for areaId, area in areas.items():\n",
    "        suppliers = area[\"supplier\"]\n",
    "        if supplierType not in suppliers:\n",
    "            continue\n",
    "            \n",
    "        orgArea = arnis[\"areas\"][areaId]\n",
    "        geometry = orgArea[\"geometry\"]\n",
    "        most_north_east = geometry[0]\n",
    "        for coordinate in geometry:\n",
    "            if coordinate[\"lat\"] > most_north_east[\"lat\"] and coordinate[\"lon\"] > most_north_east[\"lon\"]:\n",
    "                most_north_east = coordinate\n",
    "        \n",
    "        coordinateLat.append(most_north_east[\"lat\"])\n",
    "        coordinateLon.append(most_north_east[\"lon\"])\n",
    "        hoverText.append(supplierType)\n",
    "        \n",
    "    if len(coordinateLat) == 0:\n",
    "        continue\n",
    "        \n",
    "    color = suppliers_options[supplierType][\"color\"]\n",
    "    supplierRenders[supplierType] = {\n",
    "        \"lat\": coordinateLat,\n",
    "        \"lon\": coordinateLon,\n",
    "        \"color\": color,\n",
    "        \"hoverText\": hoverText,\n",
    "    }"
   ],
   "metadata": {
    "collapsed": false,
    "ExecuteTime": {
     "end_time": "2024-04-06T00:27:19.254733900Z",
     "start_time": "2024-04-06T00:27:19.231741500Z"
    }
   },
   "id": "6f69f6e48628e379"
  },
  {
   "cell_type": "code",
   "execution_count": 37,
   "outputs": [
    {
     "data": {
      "text/plain": "dict_keys(['supplier', 'demands'])"
     },
     "execution_count": 37,
     "metadata": {},
     "output_type": "execute_result"
    }
   ],
   "source": [
    "buildings.keys()"
   ],
   "metadata": {
    "collapsed": false,
    "ExecuteTime": {
     "end_time": "2024-04-06T00:00:38.057557300Z",
     "start_time": "2024-04-06T00:00:38.036780Z"
    }
   },
   "id": "443cb7ab582d06b1"
  },
  {
   "cell_type": "code",
   "execution_count": null,
   "outputs": [],
   "source": [],
   "metadata": {
    "collapsed": false
   },
   "id": "13563f7c95fae7f8"
  }
 ],
 "metadata": {
  "kernelspec": {
   "display_name": "Python 3",
   "language": "python",
   "name": "python3"
  },
  "language_info": {
   "codemirror_mode": {
    "name": "ipython",
    "version": 2
   },
   "file_extension": ".py",
   "mimetype": "text/x-python",
   "name": "python",
   "nbconvert_exporter": "python",
   "pygments_lexer": "ipython2",
   "version": "2.7.6"
  }
 },
 "nbformat": 4,
 "nbformat_minor": 5
}
